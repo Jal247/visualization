{
 "cells": [
  {
   "cell_type": "code",
   "execution_count": 38,
   "metadata": {},
   "outputs": [],
   "source": [
    "# Import Required Libraries\n",
    "\n",
    "import pandas as pd\n",
    "import matplotlib.pyplot as plt\n",
    "import seaborn as sns\n",
    "# plotly \n",
    "import plotly.graph_objects as go\n",
    "\n"
   ]
  },
  {
   "cell_type": "code",
   "execution_count": null,
   "metadata": {},
   "outputs": [
    {
     "name": "stdout",
     "output_type": "stream",
     "text": [
      "   _id                            Project Name  \\\n",
      "0    1  African Fashion & Culture Week Toronto   \n",
      "1    2                Fusion of Taste Festival   \n",
      "2    3                 2024 TAIWANfest Toronto   \n",
      "3    4       Panamerican Food & Music Festival   \n",
      "4    5                            Big on Bloor   \n",
      "\n",
      "               Organization Legal Name   Stream  Grant               Ward  \\\n",
      "0             Afro Centre for the Arts  Project  10000     Toronto Centre   \n",
      "1          Albion Islington Square BIA  Project   7500    Etobicoke North   \n",
      "2  Arts for Canadians Tomorrow Society  Project   7500  Spadina-Fort York   \n",
      "3        Artsxplosion Cultural Society  Project  10000     Toronto Centre   \n",
      "4          BIG Bloor Improvement Group  Project  10000          Davenport   \n",
      "\n",
      "   Year  \n",
      "0  2024  \n",
      "1  2024  \n",
      "2  2024  \n",
      "3  2024  \n",
      "4  2024  \n",
      "<class 'pandas.core.frame.DataFrame'>\n",
      "RangeIndex: 49 entries, 0 to 48\n",
      "Data columns (total 7 columns):\n",
      " #   Column                   Non-Null Count  Dtype \n",
      "---  ------                   --------------  ----- \n",
      " 0   _id                      49 non-null     int64 \n",
      " 1   Project Name             49 non-null     object\n",
      " 2   Organization Legal Name  49 non-null     object\n",
      " 3   Stream                   49 non-null     object\n",
      " 4   Grant                    49 non-null     int64 \n",
      " 5   Ward                     49 non-null     object\n",
      " 6   Year                     49 non-null     int64 \n",
      "dtypes: int64(3), object(4)\n",
      "memory usage: 2.8+ KB\n",
      "None\n"
     ]
    }
   ],
   "source": [
    "# File path for the new dataset\n",
    "file_path =\"C:/Users/JalpaZenisha/DSI/visualization/02_activities/assignments/2024 Cultural Festivals Funding Program recipients.csv\"\n",
    "\n",
    "# Load the CSV file\n",
    "df = pd.read_csv(file_path)\n",
    "\n",
    "# Inspect the data\n",
    "print(df.head())  # Display the first few rows\n",
    "print(df.info())  # Check column names, data types, and missing values\n"
   ]
  },
  {
   "cell_type": "code",
   "execution_count": 25,
   "metadata": {},
   "outputs": [
    {
     "name": "stdout",
     "output_type": "stream",
     "text": [
      "            _id          Grant    Year\n",
      "count  49.00000      49.000000    49.0\n",
      "mean   25.00000   39500.000000  2024.0\n",
      "std    14.28869  105439.309163     0.0\n",
      "min     1.00000    5000.000000  2024.0\n",
      "25%    13.00000    7500.000000  2024.0\n",
      "50%    25.00000   10000.000000  2024.0\n",
      "75%    37.00000   15000.000000  2024.0\n",
      "max    49.00000  600000.000000  2024.0\n"
     ]
    }
   ],
   "source": [
    "print(df.describe())  # Summary statistics for numeric columns\n"
   ]
  },
  {
   "cell_type": "code",
   "execution_count": 26,
   "metadata": {},
   "outputs": [
    {
     "name": "stdout",
     "output_type": "stream",
     "text": [
      "_id                        0\n",
      "Project Name               0\n",
      "Organization Legal Name    0\n",
      "Stream                     0\n",
      "Grant                      0\n",
      "Ward                       0\n",
      "Year                       0\n",
      "dtype: int64\n"
     ]
    }
   ],
   "source": [
    "# Data Cleaning and Preparation : Identify and handle any missing values:\n",
    "\n",
    "print(df.isnull().sum())  # Check for null values\n",
    "\n"
   ]
  },
  {
   "cell_type": "code",
   "execution_count": 29,
   "metadata": {},
   "outputs": [],
   "source": [
    "# Rename columns if needed to make them more intuitive:\n",
    "# renaming stream to Project_Type\n",
    "df.rename(columns={\n",
    "    \"Stream\": \"Project_Type\"\n",
    "}, inplace=True)\n",
    "\n",
    "#renaming grant to Funding_Amount\n",
    "df.rename(columns={\n",
    "    \"Grant\": \"Funding_Amount\"\n",
    "}, inplace=True)\n"
   ]
  },
  {
   "cell_type": "code",
   "execution_count": 30,
   "metadata": {},
   "outputs": [
    {
     "data": {
      "text/html": [
       "<div>\n",
       "<style scoped>\n",
       "    .dataframe tbody tr th:only-of-type {\n",
       "        vertical-align: middle;\n",
       "    }\n",
       "\n",
       "    .dataframe tbody tr th {\n",
       "        vertical-align: top;\n",
       "    }\n",
       "\n",
       "    .dataframe thead th {\n",
       "        text-align: right;\n",
       "    }\n",
       "</style>\n",
       "<table border=\"1\" class=\"dataframe\">\n",
       "  <thead>\n",
       "    <tr style=\"text-align: right;\">\n",
       "      <th></th>\n",
       "      <th>_id</th>\n",
       "      <th>Project Name</th>\n",
       "      <th>Organization Legal Name</th>\n",
       "      <th>Project_Type</th>\n",
       "      <th>Funding_Amount</th>\n",
       "      <th>Ward</th>\n",
       "      <th>Year</th>\n",
       "    </tr>\n",
       "  </thead>\n",
       "  <tbody>\n",
       "    <tr>\n",
       "      <th>0</th>\n",
       "      <td>1</td>\n",
       "      <td>African Fashion &amp; Culture Week Toronto</td>\n",
       "      <td>Afro Centre for the Arts</td>\n",
       "      <td>Project</td>\n",
       "      <td>10000</td>\n",
       "      <td>Toronto Centre</td>\n",
       "      <td>2024</td>\n",
       "    </tr>\n",
       "    <tr>\n",
       "      <th>1</th>\n",
       "      <td>2</td>\n",
       "      <td>Fusion of Taste Festival</td>\n",
       "      <td>Albion Islington Square BIA</td>\n",
       "      <td>Project</td>\n",
       "      <td>7500</td>\n",
       "      <td>Etobicoke North</td>\n",
       "      <td>2024</td>\n",
       "    </tr>\n",
       "    <tr>\n",
       "      <th>2</th>\n",
       "      <td>3</td>\n",
       "      <td>2024 TAIWANfest Toronto</td>\n",
       "      <td>Arts for Canadians Tomorrow Society</td>\n",
       "      <td>Project</td>\n",
       "      <td>7500</td>\n",
       "      <td>Spadina-Fort York</td>\n",
       "      <td>2024</td>\n",
       "    </tr>\n",
       "    <tr>\n",
       "      <th>3</th>\n",
       "      <td>4</td>\n",
       "      <td>Panamerican Food &amp; Music Festival</td>\n",
       "      <td>Artsxplosion Cultural Society</td>\n",
       "      <td>Project</td>\n",
       "      <td>10000</td>\n",
       "      <td>Toronto Centre</td>\n",
       "      <td>2024</td>\n",
       "    </tr>\n",
       "    <tr>\n",
       "      <th>4</th>\n",
       "      <td>5</td>\n",
       "      <td>Big on Bloor</td>\n",
       "      <td>BIG Bloor Improvement Group</td>\n",
       "      <td>Project</td>\n",
       "      <td>10000</td>\n",
       "      <td>Davenport</td>\n",
       "      <td>2024</td>\n",
       "    </tr>\n",
       "    <tr>\n",
       "      <th>5</th>\n",
       "      <td>6</td>\n",
       "      <td>The 45th Annual Cabbagetown Festival</td>\n",
       "      <td>Cabbagetown Business Improvement Area</td>\n",
       "      <td>Project</td>\n",
       "      <td>10000</td>\n",
       "      <td>Toronto Centre</td>\n",
       "      <td>2024</td>\n",
       "    </tr>\n",
       "    <tr>\n",
       "      <th>6</th>\n",
       "      <td>7</td>\n",
       "      <td>Toronto Dragon Festival</td>\n",
       "      <td>Canadian Association of Chinese Performing Arts</td>\n",
       "      <td>Project</td>\n",
       "      <td>10000</td>\n",
       "      <td>Toronto Centre</td>\n",
       "      <td>2024</td>\n",
       "    </tr>\n",
       "    <tr>\n",
       "      <th>7</th>\n",
       "      <td>8</td>\n",
       "      <td>Rastafest in Little Jamaica</td>\n",
       "      <td>Canadian Reggae Music Association</td>\n",
       "      <td>Project</td>\n",
       "      <td>10000</td>\n",
       "      <td>Eglinton-Lawrence</td>\n",
       "      <td>2024</td>\n",
       "    </tr>\n",
       "    <tr>\n",
       "      <th>8</th>\n",
       "      <td>9</td>\n",
       "      <td>The International Jerk Food &amp; Music Festival</td>\n",
       "      <td>Caribbean Promotions Arts &amp; Culture Inc.</td>\n",
       "      <td>Project</td>\n",
       "      <td>15000</td>\n",
       "      <td>Etobicoke Centre</td>\n",
       "      <td>2024</td>\n",
       "    </tr>\n",
       "    <tr>\n",
       "      <th>9</th>\n",
       "      <td>10</td>\n",
       "      <td>Scarborough Summerfest 2024</td>\n",
       "      <td>Chinese Cultural Centre of Greater Toronto</td>\n",
       "      <td>Project</td>\n",
       "      <td>10000</td>\n",
       "      <td>Scarborough North</td>\n",
       "      <td>2024</td>\n",
       "    </tr>\n",
       "    <tr>\n",
       "      <th>10</th>\n",
       "      <td>11</td>\n",
       "      <td>CONTACT Photography Festival</td>\n",
       "      <td>CONTACT Photography Festival</td>\n",
       "      <td>Annual Operating</td>\n",
       "      <td>50000</td>\n",
       "      <td>Multiple</td>\n",
       "      <td>2024</td>\n",
       "    </tr>\n",
       "    <tr>\n",
       "      <th>11</th>\n",
       "      <td>12</td>\n",
       "      <td>Toronto International BuskerFest</td>\n",
       "      <td>Epilepsy Toronto</td>\n",
       "      <td>Project</td>\n",
       "      <td>10000</td>\n",
       "      <td>Beaches- East York</td>\n",
       "      <td>2024</td>\n",
       "    </tr>\n",
       "    <tr>\n",
       "      <th>12</th>\n",
       "      <td>13</td>\n",
       "      <td>Fairbank Summerfest</td>\n",
       "      <td>Fairbank Village Business Improvement Area</td>\n",
       "      <td>Project</td>\n",
       "      <td>7500</td>\n",
       "      <td>Eglinton-Lawrence</td>\n",
       "      <td>2024</td>\n",
       "    </tr>\n",
       "    <tr>\n",
       "      <th>13</th>\n",
       "      <td>14</td>\n",
       "      <td>2024 Asialicious Carnival</td>\n",
       "      <td>Federation of Asian Canadians Toronto</td>\n",
       "      <td>Project</td>\n",
       "      <td>10000</td>\n",
       "      <td>Scarborough North</td>\n",
       "      <td>2024</td>\n",
       "    </tr>\n",
       "    <tr>\n",
       "      <th>14</th>\n",
       "      <td>15</td>\n",
       "      <td>Toronto Caribbean Carnival</td>\n",
       "      <td>Festival Management Committee</td>\n",
       "      <td>Multi-Year Operating</td>\n",
       "      <td>600000</td>\n",
       "      <td>Spadina-Fort York</td>\n",
       "      <td>2024</td>\n",
       "    </tr>\n",
       "    <tr>\n",
       "      <th>15</th>\n",
       "      <td>16</td>\n",
       "      <td>Franco-FÃªte de Toronto</td>\n",
       "      <td>Franco-FÃªte</td>\n",
       "      <td>Project</td>\n",
       "      <td>5000</td>\n",
       "      <td>Spadina-Fort York</td>\n",
       "      <td>2024</td>\n",
       "    </tr>\n",
       "    <tr>\n",
       "      <th>16</th>\n",
       "      <td>17</td>\n",
       "      <td>Festival FRANCOPHONIE EN FETE</td>\n",
       "      <td>Francophonie en Fete Corporation</td>\n",
       "      <td>Project</td>\n",
       "      <td>10000</td>\n",
       "      <td>Spadina-Fort York</td>\n",
       "      <td>2024</td>\n",
       "    </tr>\n",
       "    <tr>\n",
       "      <th>17</th>\n",
       "      <td>18</td>\n",
       "      <td>Festival of South Asia</td>\n",
       "      <td>Gerrard India Bazaar Business Improvement Area</td>\n",
       "      <td>Project</td>\n",
       "      <td>7500</td>\n",
       "      <td>Toronto-Danforth</td>\n",
       "      <td>2024</td>\n",
       "    </tr>\n",
       "    <tr>\n",
       "      <th>18</th>\n",
       "      <td>19</td>\n",
       "      <td>Family Fest 2024</td>\n",
       "      <td>Guild Festival Theatre</td>\n",
       "      <td>Project</td>\n",
       "      <td>7500</td>\n",
       "      <td>Scarborough-Guildwood</td>\n",
       "      <td>2024</td>\n",
       "    </tr>\n",
       "    <tr>\n",
       "      <th>19</th>\n",
       "      <td>20</td>\n",
       "      <td>Afro-Carib Fest 2024</td>\n",
       "      <td>Heritage Skills Development Centre</td>\n",
       "      <td>Project</td>\n",
       "      <td>20000</td>\n",
       "      <td>Scarborough Centre</td>\n",
       "      <td>2024</td>\n",
       "    </tr>\n",
       "    <tr>\n",
       "      <th>20</th>\n",
       "      <td>21</td>\n",
       "      <td>Indigenous Fashion Arts Festival</td>\n",
       "      <td>Indigenous Fashion Arts</td>\n",
       "      <td>Project</td>\n",
       "      <td>10000</td>\n",
       "      <td>Toronto Centre</td>\n",
       "      <td>2024</td>\n",
       "    </tr>\n",
       "    <tr>\n",
       "      <th>21</th>\n",
       "      <td>22</td>\n",
       "      <td>Intersection 2024 (Glitter Ball)</td>\n",
       "      <td>Intersection Music &amp; Arts</td>\n",
       "      <td>Project</td>\n",
       "      <td>7500</td>\n",
       "      <td>Toronto Centre</td>\n",
       "      <td>2024</td>\n",
       "    </tr>\n",
       "    <tr>\n",
       "      <th>22</th>\n",
       "      <td>23</td>\n",
       "      <td>Do West Fest</td>\n",
       "      <td>Little Portugal Toronto BIA</td>\n",
       "      <td>Project</td>\n",
       "      <td>20000</td>\n",
       "      <td>Davenport</td>\n",
       "      <td>2024</td>\n",
       "    </tr>\n",
       "    <tr>\n",
       "      <th>23</th>\n",
       "      <td>24</td>\n",
       "      <td>JaneÂs Walk Festival Toronto</td>\n",
       "      <td>MakeWay Charitable Society (Jane's Walk)</td>\n",
       "      <td>Project</td>\n",
       "      <td>7500</td>\n",
       "      <td>Multiple</td>\n",
       "      <td>2024</td>\n",
       "    </tr>\n",
       "    <tr>\n",
       "      <th>24</th>\n",
       "      <td>25</td>\n",
       "      <td>Somali Fest Toronto (SoTo)</td>\n",
       "      <td>Midaynta Community Services</td>\n",
       "      <td>Project</td>\n",
       "      <td>10000</td>\n",
       "      <td>Etobicoke North/ Parkdale-High Park/ York Sout...</td>\n",
       "      <td>2024</td>\n",
       "    </tr>\n",
       "    <tr>\n",
       "      <th>25</th>\n",
       "      <td>26</td>\n",
       "      <td>Afro Caribbean Cultural Festival 2024</td>\n",
       "      <td>Moksha Canada Foundation</td>\n",
       "      <td>Project</td>\n",
       "      <td>20000</td>\n",
       "      <td>Scarborough Centre</td>\n",
       "      <td>2024</td>\n",
       "    </tr>\n",
       "    <tr>\n",
       "      <th>26</th>\n",
       "      <td>27</td>\n",
       "      <td>National Indigenous Peoples Day Cultural Festi...</td>\n",
       "      <td>Native Canadian Centre of Toronto</td>\n",
       "      <td>Project</td>\n",
       "      <td>10000</td>\n",
       "      <td>Spadina-Fort York</td>\n",
       "      <td>2024</td>\n",
       "    </tr>\n",
       "    <tr>\n",
       "      <th>27</th>\n",
       "      <td>28</td>\n",
       "      <td>Taste of North York</td>\n",
       "      <td>NeighbourLink North York</td>\n",
       "      <td>Project</td>\n",
       "      <td>7500</td>\n",
       "      <td>Willowdale</td>\n",
       "      <td>2024</td>\n",
       "    </tr>\n",
       "    <tr>\n",
       "      <th>28</th>\n",
       "      <td>29</td>\n",
       "      <td>Scarborough Folk Fest 2024</td>\n",
       "      <td>Parampara Canada</td>\n",
       "      <td>Project</td>\n",
       "      <td>10000</td>\n",
       "      <td>Scarborough Centre</td>\n",
       "      <td>2024</td>\n",
       "    </tr>\n",
       "    <tr>\n",
       "      <th>29</th>\n",
       "      <td>30</td>\n",
       "      <td>FUN Philippines 2024</td>\n",
       "      <td>Philippine Legacy and Cultural Alliance</td>\n",
       "      <td>Project</td>\n",
       "      <td>7500</td>\n",
       "      <td>Toronto Centre</td>\n",
       "      <td>2024</td>\n",
       "    </tr>\n",
       "    <tr>\n",
       "      <th>30</th>\n",
       "      <td>31</td>\n",
       "      <td>Pride Toronto Festival 2024/2025/2026</td>\n",
       "      <td>Pride Toronto</td>\n",
       "      <td>Annual Operating</td>\n",
       "      <td>260000</td>\n",
       "      <td>Toronto Centre</td>\n",
       "      <td>2024</td>\n",
       "    </tr>\n",
       "    <tr>\n",
       "      <th>31</th>\n",
       "      <td>32</td>\n",
       "      <td>Queen West Art Crawl Festival</td>\n",
       "      <td>Queen West Art Crawl</td>\n",
       "      <td>Project</td>\n",
       "      <td>10000</td>\n",
       "      <td>Parkdale-High Park</td>\n",
       "      <td>2024</td>\n",
       "    </tr>\n",
       "    <tr>\n",
       "      <th>32</th>\n",
       "      <td>33</td>\n",
       "      <td>Afraspektion</td>\n",
       "      <td>Riverside Business Improvement Area</td>\n",
       "      <td>Project</td>\n",
       "      <td>7000</td>\n",
       "      <td>Toronto-Danforth</td>\n",
       "      <td>2024</td>\n",
       "    </tr>\n",
       "    <tr>\n",
       "      <th>33</th>\n",
       "      <td>34</td>\n",
       "      <td>Roncesvalles Polish Festival</td>\n",
       "      <td>Roncesvalles Village BIA</td>\n",
       "      <td>Project</td>\n",
       "      <td>10000</td>\n",
       "      <td>Parkdale-High Park</td>\n",
       "      <td>2024</td>\n",
       "    </tr>\n",
       "    <tr>\n",
       "      <th>34</th>\n",
       "      <td>35</td>\n",
       "      <td>Salsa on St. Clair</td>\n",
       "      <td>Salsa in Toronto</td>\n",
       "      <td>Multi-Year Operating</td>\n",
       "      <td>100000</td>\n",
       "      <td>Toronto-St. Paul's</td>\n",
       "      <td>2024</td>\n",
       "    </tr>\n",
       "    <tr>\n",
       "      <th>35</th>\n",
       "      <td>36</td>\n",
       "      <td>Tastes and Sounds of Jane &amp; Finch</td>\n",
       "      <td>San Romanoway Revitalization Association</td>\n",
       "      <td>Project</td>\n",
       "      <td>7000</td>\n",
       "      <td>Humber River - Black Creek</td>\n",
       "      <td>2024</td>\n",
       "    </tr>\n",
       "    <tr>\n",
       "      <th>36</th>\n",
       "      <td>37</td>\n",
       "      <td>Converge: Eco Art Fest</td>\n",
       "      <td>STEPS Initiative</td>\n",
       "      <td>Project</td>\n",
       "      <td>7500</td>\n",
       "      <td>Spadina-Fort York</td>\n",
       "      <td>2024</td>\n",
       "    </tr>\n",
       "    <tr>\n",
       "      <th>37</th>\n",
       "      <td>38</td>\n",
       "      <td>Taste Of Bangladesh</td>\n",
       "      <td>Taste Of Bangladesh</td>\n",
       "      <td>Project</td>\n",
       "      <td>5000</td>\n",
       "      <td>Scarborough Southwest</td>\n",
       "      <td>2024</td>\n",
       "    </tr>\n",
       "    <tr>\n",
       "      <th>38</th>\n",
       "      <td>39</td>\n",
       "      <td>Taste of the Middle East Toronto Festival</td>\n",
       "      <td>Taste of the Middle East Foundation</td>\n",
       "      <td>Project</td>\n",
       "      <td>20000</td>\n",
       "      <td>Toronto Centre</td>\n",
       "      <td>2024</td>\n",
       "    </tr>\n",
       "    <tr>\n",
       "      <th>39</th>\n",
       "      <td>40</td>\n",
       "      <td>Common Ground Dance Festival 2024</td>\n",
       "      <td>TOES FOR DANCE INC.</td>\n",
       "      <td>Project</td>\n",
       "      <td>10000</td>\n",
       "      <td>Willowdale</td>\n",
       "      <td>2024</td>\n",
       "    </tr>\n",
       "    <tr>\n",
       "      <th>40</th>\n",
       "      <td>41</td>\n",
       "      <td>DesignTO Festival</td>\n",
       "      <td>Toronto Design Offsite Festival</td>\n",
       "      <td>Annual Operating</td>\n",
       "      <td>50000</td>\n",
       "      <td>Multiple</td>\n",
       "      <td>2024</td>\n",
       "    </tr>\n",
       "    <tr>\n",
       "      <th>41</th>\n",
       "      <td>42</td>\n",
       "      <td>Luminato</td>\n",
       "      <td>Toronto Festival of Arts</td>\n",
       "      <td>Multi-Year Operating</td>\n",
       "      <td>400000</td>\n",
       "      <td>Multiple</td>\n",
       "      <td>2024</td>\n",
       "    </tr>\n",
       "    <tr>\n",
       "      <th>42</th>\n",
       "      <td>43</td>\n",
       "      <td>63rd Toronto Outdoor Art Fair</td>\n",
       "      <td>Toronto Outdoor Art Fair</td>\n",
       "      <td>Annual Operating</td>\n",
       "      <td>50000</td>\n",
       "      <td>Toronto Centre</td>\n",
       "      <td>2024</td>\n",
       "    </tr>\n",
       "    <tr>\n",
       "      <th>43</th>\n",
       "      <td>44</td>\n",
       "      <td>Toronto Outdoor Picture Show presents Â9 to 5...</td>\n",
       "      <td>Toronto Outdoor Picture Show</td>\n",
       "      <td>Project</td>\n",
       "      <td>7500</td>\n",
       "      <td>Spadina-Fort York, Toronto-St. Paul's, Toronto...</td>\n",
       "      <td>2024</td>\n",
       "    </tr>\n",
       "    <tr>\n",
       "      <th>44</th>\n",
       "      <td>45</td>\n",
       "      <td>T.U. Jazz Fest</td>\n",
       "      <td>Toronto Undergraduate Jazz Festival</td>\n",
       "      <td>Project</td>\n",
       "      <td>7000</td>\n",
       "      <td>Willowdale</td>\n",
       "      <td>2024</td>\n",
       "    </tr>\n",
       "    <tr>\n",
       "      <th>45</th>\n",
       "      <td>46</td>\n",
       "      <td>desiFEST 2024</td>\n",
       "      <td>UMA Foundation</td>\n",
       "      <td>Project</td>\n",
       "      <td>10000</td>\n",
       "      <td>Toronto Centre/ Toronto-Danforth</td>\n",
       "      <td>2024</td>\n",
       "    </tr>\n",
       "    <tr>\n",
       "      <th>46</th>\n",
       "      <td>47</td>\n",
       "      <td>Geary Art Crawl</td>\n",
       "      <td>Uma Nota Music and Production</td>\n",
       "      <td>Project</td>\n",
       "      <td>20000</td>\n",
       "      <td>Davenport</td>\n",
       "      <td>2024</td>\n",
       "    </tr>\n",
       "    <tr>\n",
       "      <th>47</th>\n",
       "      <td>48</td>\n",
       "      <td>Vietnamese Lantern Festival</td>\n",
       "      <td>Vietnamese Women's Association of Toronto</td>\n",
       "      <td>Project</td>\n",
       "      <td>7000</td>\n",
       "      <td>Humber River - Black Creek</td>\n",
       "      <td>2024</td>\n",
       "    </tr>\n",
       "    <tr>\n",
       "      <th>48</th>\n",
       "      <td>49</td>\n",
       "      <td>Little Jamaica Fest</td>\n",
       "      <td>York-Eglinton Business Improvement Area</td>\n",
       "      <td>Project</td>\n",
       "      <td>10000</td>\n",
       "      <td>Eglinton-Lawrence</td>\n",
       "      <td>2024</td>\n",
       "    </tr>\n",
       "  </tbody>\n",
       "</table>\n",
       "</div>"
      ],
      "text/plain": [
       "    _id                                       Project Name  \\\n",
       "0     1             African Fashion & Culture Week Toronto   \n",
       "1     2                           Fusion of Taste Festival   \n",
       "2     3                            2024 TAIWANfest Toronto   \n",
       "3     4                  Panamerican Food & Music Festival   \n",
       "4     5                                       Big on Bloor   \n",
       "5     6               The 45th Annual Cabbagetown Festival   \n",
       "6     7                            Toronto Dragon Festival   \n",
       "7     8                        Rastafest in Little Jamaica   \n",
       "8     9       The International Jerk Food & Music Festival   \n",
       "9    10                        Scarborough Summerfest 2024   \n",
       "10   11                       CONTACT Photography Festival   \n",
       "11   12                   Toronto International BuskerFest   \n",
       "12   13                                Fairbank Summerfest   \n",
       "13   14                          2024 Asialicious Carnival   \n",
       "14   15                         Toronto Caribbean Carnival   \n",
       "15   16                            Franco-FÃªte de Toronto   \n",
       "16   17                      Festival FRANCOPHONIE EN FETE   \n",
       "17   18                             Festival of South Asia   \n",
       "18   19                                   Family Fest 2024   \n",
       "19   20                               Afro-Carib Fest 2024   \n",
       "20   21                   Indigenous Fashion Arts Festival   \n",
       "21   22                   Intersection 2024 (Glitter Ball)   \n",
       "22   23                                       Do West Fest   \n",
       "23   24                      JaneÂs Walk Festival Toronto   \n",
       "24   25                         Somali Fest Toronto (SoTo)   \n",
       "25   26              Afro Caribbean Cultural Festival 2024   \n",
       "26   27  National Indigenous Peoples Day Cultural Festi...   \n",
       "27   28                                Taste of North York   \n",
       "28   29                         Scarborough Folk Fest 2024   \n",
       "29   30                               FUN Philippines 2024   \n",
       "30   31              Pride Toronto Festival 2024/2025/2026   \n",
       "31   32                      Queen West Art Crawl Festival   \n",
       "32   33                                       Afraspektion   \n",
       "33   34                       Roncesvalles Polish Festival   \n",
       "34   35                                 Salsa on St. Clair   \n",
       "35   36                  Tastes and Sounds of Jane & Finch   \n",
       "36   37                             Converge: Eco Art Fest   \n",
       "37   38                                Taste Of Bangladesh   \n",
       "38   39          Taste of the Middle East Toronto Festival   \n",
       "39   40                  Common Ground Dance Festival 2024   \n",
       "40   41                                  DesignTO Festival   \n",
       "41   42                                           Luminato   \n",
       "42   43                      63rd Toronto Outdoor Art Fair   \n",
       "43   44  Toronto Outdoor Picture Show presents Â9 to 5...   \n",
       "44   45                                     T.U. Jazz Fest   \n",
       "45   46                                      desiFEST 2024   \n",
       "46   47                                    Geary Art Crawl   \n",
       "47   48                        Vietnamese Lantern Festival   \n",
       "48   49                                Little Jamaica Fest   \n",
       "\n",
       "                            Organization Legal Name          Project_Type  \\\n",
       "0                          Afro Centre for the Arts               Project   \n",
       "1                       Albion Islington Square BIA               Project   \n",
       "2               Arts for Canadians Tomorrow Society               Project   \n",
       "3                     Artsxplosion Cultural Society               Project   \n",
       "4                       BIG Bloor Improvement Group               Project   \n",
       "5             Cabbagetown Business Improvement Area               Project   \n",
       "6   Canadian Association of Chinese Performing Arts               Project   \n",
       "7                 Canadian Reggae Music Association               Project   \n",
       "8          Caribbean Promotions Arts & Culture Inc.               Project   \n",
       "9        Chinese Cultural Centre of Greater Toronto               Project   \n",
       "10                     CONTACT Photography Festival      Annual Operating   \n",
       "11                                 Epilepsy Toronto               Project   \n",
       "12       Fairbank Village Business Improvement Area               Project   \n",
       "13            Federation of Asian Canadians Toronto               Project   \n",
       "14                    Festival Management Committee  Multi-Year Operating   \n",
       "15                                     Franco-FÃªte               Project   \n",
       "16                 Francophonie en Fete Corporation               Project   \n",
       "17   Gerrard India Bazaar Business Improvement Area               Project   \n",
       "18                           Guild Festival Theatre               Project   \n",
       "19               Heritage Skills Development Centre               Project   \n",
       "20                          Indigenous Fashion Arts               Project   \n",
       "21                        Intersection Music & Arts               Project   \n",
       "22                      Little Portugal Toronto BIA               Project   \n",
       "23         MakeWay Charitable Society (Jane's Walk)               Project   \n",
       "24                      Midaynta Community Services               Project   \n",
       "25                         Moksha Canada Foundation               Project   \n",
       "26                Native Canadian Centre of Toronto               Project   \n",
       "27                         NeighbourLink North York               Project   \n",
       "28                                 Parampara Canada               Project   \n",
       "29          Philippine Legacy and Cultural Alliance               Project   \n",
       "30                                    Pride Toronto      Annual Operating   \n",
       "31                             Queen West Art Crawl               Project   \n",
       "32              Riverside Business Improvement Area               Project   \n",
       "33                         Roncesvalles Village BIA               Project   \n",
       "34                                 Salsa in Toronto  Multi-Year Operating   \n",
       "35         San Romanoway Revitalization Association               Project   \n",
       "36                                 STEPS Initiative               Project   \n",
       "37                              Taste Of Bangladesh               Project   \n",
       "38              Taste of the Middle East Foundation               Project   \n",
       "39                              TOES FOR DANCE INC.               Project   \n",
       "40                  Toronto Design Offsite Festival      Annual Operating   \n",
       "41                         Toronto Festival of Arts  Multi-Year Operating   \n",
       "42                         Toronto Outdoor Art Fair      Annual Operating   \n",
       "43                     Toronto Outdoor Picture Show               Project   \n",
       "44              Toronto Undergraduate Jazz Festival               Project   \n",
       "45                                   UMA Foundation               Project   \n",
       "46                    Uma Nota Music and Production               Project   \n",
       "47        Vietnamese Women's Association of Toronto               Project   \n",
       "48          York-Eglinton Business Improvement Area               Project   \n",
       "\n",
       "    Funding_Amount                                               Ward  Year  \n",
       "0            10000                                     Toronto Centre  2024  \n",
       "1             7500                                    Etobicoke North  2024  \n",
       "2             7500                                  Spadina-Fort York  2024  \n",
       "3            10000                                     Toronto Centre  2024  \n",
       "4            10000                                          Davenport  2024  \n",
       "5            10000                                     Toronto Centre  2024  \n",
       "6            10000                                     Toronto Centre  2024  \n",
       "7            10000                                  Eglinton-Lawrence  2024  \n",
       "8            15000                                   Etobicoke Centre  2024  \n",
       "9            10000                                  Scarborough North  2024  \n",
       "10           50000                                           Multiple  2024  \n",
       "11           10000                                 Beaches- East York  2024  \n",
       "12            7500                                  Eglinton-Lawrence  2024  \n",
       "13           10000                                  Scarborough North  2024  \n",
       "14          600000                                  Spadina-Fort York  2024  \n",
       "15            5000                                  Spadina-Fort York  2024  \n",
       "16           10000                                  Spadina-Fort York  2024  \n",
       "17            7500                                   Toronto-Danforth  2024  \n",
       "18            7500                              Scarborough-Guildwood  2024  \n",
       "19           20000                                 Scarborough Centre  2024  \n",
       "20           10000                                     Toronto Centre  2024  \n",
       "21            7500                                     Toronto Centre  2024  \n",
       "22           20000                                          Davenport  2024  \n",
       "23            7500                                           Multiple  2024  \n",
       "24           10000  Etobicoke North/ Parkdale-High Park/ York Sout...  2024  \n",
       "25           20000                                 Scarborough Centre  2024  \n",
       "26           10000                                  Spadina-Fort York  2024  \n",
       "27            7500                                         Willowdale  2024  \n",
       "28           10000                                 Scarborough Centre  2024  \n",
       "29            7500                                     Toronto Centre  2024  \n",
       "30          260000                                     Toronto Centre  2024  \n",
       "31           10000                                 Parkdale-High Park  2024  \n",
       "32            7000                                   Toronto-Danforth  2024  \n",
       "33           10000                                 Parkdale-High Park  2024  \n",
       "34          100000                                 Toronto-St. Paul's  2024  \n",
       "35            7000                         Humber River - Black Creek  2024  \n",
       "36            7500                                  Spadina-Fort York  2024  \n",
       "37            5000                              Scarborough Southwest  2024  \n",
       "38           20000                                     Toronto Centre  2024  \n",
       "39           10000                                         Willowdale  2024  \n",
       "40           50000                                           Multiple  2024  \n",
       "41          400000                                           Multiple  2024  \n",
       "42           50000                                     Toronto Centre  2024  \n",
       "43            7500  Spadina-Fort York, Toronto-St. Paul's, Toronto...  2024  \n",
       "44            7000                                         Willowdale  2024  \n",
       "45           10000                   Toronto Centre/ Toronto-Danforth  2024  \n",
       "46           20000                                          Davenport  2024  \n",
       "47            7000                         Humber River - Black Creek  2024  \n",
       "48           10000                                  Eglinton-Lawrence  2024  "
      ]
     },
     "execution_count": 30,
     "metadata": {},
     "output_type": "execute_result"
    }
   ],
   "source": [
    "df"
   ]
  },
  {
   "cell_type": "code",
   "execution_count": null,
   "metadata": {},
   "outputs": [
    {
     "name": "stdout",
     "output_type": "stream",
     "text": [
      "Project_Type\n",
      "Annual Operating         410000\n",
      "Multi-Year Operating    1100000\n",
      "Project                  425500\n",
      "Name: Funding_Amount, dtype: int64\n"
     ]
    }
   ],
   "source": [
    "# Aggregate Funding by Project_Type\n",
    "# Group by project type to get total funding:\n",
    "\n",
    "funding_by_project_type = df.groupby('Project_Type')['Funding_Amount'].sum()\n",
    "print(funding_by_project_type)\n",
    "# Analyze the Data\n"
   ]
  },
  {
   "cell_type": "code",
   "execution_count": 32,
   "metadata": {},
   "outputs": [
    {
     "name": "stdout",
     "output_type": "stream",
     "text": [
      "Ward\n",
      "Beaches- East York                                                                                  10000\n",
      "Davenport                                                                                           50000\n",
      "Eglinton-Lawrence                                                                                   27500\n",
      "Etobicoke Centre                                                                                    15000\n",
      "Etobicoke North                                                                                      7500\n",
      "Etobicoke North/ Parkdale-High Park/ York South-Weston/ University-Rosedale                         10000\n",
      "Humber River - Black Creek                                                                          14000\n",
      "Multiple                                                                                           507500\n",
      "Parkdale-High Park                                                                                  20000\n",
      "Scarborough Centre                                                                                  50000\n",
      "Scarborough North                                                                                   20000\n",
      "Scarborough Southwest                                                                                5000\n",
      "Scarborough-Guildwood                                                                                7500\n",
      "Spadina-Fort York                                                                                  640000\n",
      "Spadina-Fort York, Toronto-St. Paul's, Toronto Centre, Etobicoke-Lakeshore, University-Rosedale      7500\n",
      "Toronto Centre                                                                                     395000\n",
      "Toronto Centre/ Toronto-Danforth                                                                    10000\n",
      "Toronto-Danforth                                                                                    14500\n",
      "Toronto-St. Paul's                                                                                 100000\n",
      "Willowdale                                                                                          24500\n",
      "Name: Funding_Amount, dtype: int64\n"
     ]
    }
   ],
   "source": [
    "# Aggregate Funding by ward\n",
    "# Group by ward to get total funding:\n",
    "\n",
    "funding_by_Ward = df.groupby('Ward')['Funding_Amount'].sum()\n",
    "print(funding_by_Ward)\n"
   ]
  },
  {
   "cell_type": "code",
   "execution_count": 35,
   "metadata": {},
   "outputs": [
    {
     "name": "stdout",
     "output_type": "stream",
     "text": [
      "    _id                           Project Name        Organization Legal Name  \\\n",
      "14   15             Toronto Caribbean Carnival  Festival Management Committee   \n",
      "41   42                               Luminato       Toronto Festival of Arts   \n",
      "30   31  Pride Toronto Festival 2024/2025/2026                  Pride Toronto   \n",
      "34   35                     Salsa on St. Clair               Salsa in Toronto   \n",
      "10   11           CONTACT Photography Festival   CONTACT Photography Festival   \n",
      "\n",
      "            Project_Type  Funding_Amount                Ward  Year  \n",
      "14  Multi-Year Operating          600000   Spadina-Fort York  2024  \n",
      "41  Multi-Year Operating          400000            Multiple  2024  \n",
      "30      Annual Operating          260000      Toronto Centre  2024  \n",
      "34  Multi-Year Operating          100000  Toronto-St. Paul's  2024  \n",
      "10      Annual Operating           50000            Multiple  2024  \n"
     ]
    }
   ],
   "source": [
    "# Identify Top Funded Festivals\n",
    "# Finding festivals that received the highest funding:\n",
    "\n",
    "top_festivals = df.sort_values(by='Funding_Amount', ascending=False)\n",
    "print(top_festivals.head(5))\n"
   ]
  },
  {
   "cell_type": "code",
   "execution_count": 33,
   "metadata": {},
   "outputs": [
    {
     "data": {
      "image/png": "[encoded data removed]",
      "text/plain": [
       "<Figure size 1000x600 with 1 Axes>"
      ]
     },
     "metadata": {},
     "output_type": "display_data"
    }
   ],
   "source": [
    "# Create Visualizations\n",
    "#Visualization 1: Total Funding by Festival Type\n",
    "\n",
    "plt.figure(figsize=(10, 6))\n",
    "funding_by_project_type.plot(kind='bar', color='skyblue')\n",
    "plt.title('Total Funding by Project Type')\n",
    "plt.xlabel('Project Type')\n",
    "plt.ylabel('Funding Amount ($)')\n",
    "plt.xticks(rotation=45)\n",
    "plt.show()\n"
   ]
  },
  {
   "cell_type": "code",
   "execution_count": 37,
   "metadata": {},
   "outputs": [
    {
     "data": {
      "image/png": "[encoded data removed]",
      "text/plain": [
       "<Figure size 1000x600 with 1 Axes>"
      ]
     },
     "metadata": {},
     "output_type": "display_data"
    }
   ],
   "source": [
    "# Visualization 2: Top 5 Funded Festivals\n",
    "top_5_festivals = top_festivals.head(5)\n",
    "\n",
    "plt.figure(figsize=(10, 6))\n",
    "plt.bar(top_5_festivals['Project Name'], top_5_festivals['Funding_Amount'], color='green')\n",
    "plt.title('Top 5 Funded Festivals')\n",
    "plt.xlabel('Project Name')\n",
    "plt.ylabel('Funding_Amount ($)')\n",
    "plt.xticks(rotation=45)\n",
    "plt.show()\n"
   ]
  },
  {
   "cell_type": "code",
   "execution_count": 42,
   "metadata": {},
   "outputs": [
    {
     "data": {
      "text/plain": [
       "Ward\n",
       "Beaches- East York                                                                                  10000\n",
       "Davenport                                                                                           50000\n",
       "Eglinton-Lawrence                                                                                   27500\n",
       "Etobicoke Centre                                                                                    15000\n",
       "Etobicoke North                                                                                      7500\n",
       "Etobicoke North/ Parkdale-High Park/ York South-Weston/ University-Rosedale                         10000\n",
       "Humber River - Black Creek                                                                          14000\n",
       "Multiple                                                                                           507500\n",
       "Parkdale-High Park                                                                                  20000\n",
       "Scarborough Centre                                                                                  50000\n",
       "Scarborough North                                                                                   20000\n",
       "Scarborough Southwest                                                                                5000\n",
       "Scarborough-Guildwood                                                                                7500\n",
       "Spadina-Fort York                                                                                  640000\n",
       "Spadina-Fort York, Toronto-St. Paul's, Toronto Centre, Etobicoke-Lakeshore, University-Rosedale      7500\n",
       "Toronto Centre                                                                                     395000\n",
       "Toronto Centre/ Toronto-Danforth                                                                    10000\n",
       "Toronto-Danforth                                                                                    14500\n",
       "Toronto-St. Paul's                                                                                 100000\n",
       "Willowdale                                                                                          24500\n",
       "Name: Funding_Amount, dtype: int64"
      ]
     },
     "execution_count": 42,
     "metadata": {},
     "output_type": "execute_result"
    }
   ],
   "source": [
    "funding_by_Ward\n"
   ]
  },
  {
   "cell_type": "code",
   "execution_count": null,
   "metadata": {},
   "outputs": [],
   "source": [
    "# converted column in to list for plotting in plotly\n",
    "\n",
    "filtered_amount = list(filter(lambda x: x >= 50000, Funding_Amount))\n",
    "Ward_Name = df['Ward']\n"
   ]
  },
  {
   "cell_type": "code",
   "execution_count": 62,
   "metadata": {},
   "outputs": [
    {
     "data": {
      "text/plain": [
       "0                                        Toronto Centre\n",
       "1                                       Etobicoke North\n",
       "2                                     Spadina-Fort York\n",
       "3                                        Toronto Centre\n",
       "4                                             Davenport\n",
       "5                                        Toronto Centre\n",
       "6                                        Toronto Centre\n",
       "7                                     Eglinton-Lawrence\n",
       "8                                      Etobicoke Centre\n",
       "9                                     Scarborough North\n",
       "10                                             Multiple\n",
       "11                                   Beaches- East York\n",
       "12                                    Eglinton-Lawrence\n",
       "13                                    Scarborough North\n",
       "14                                    Spadina-Fort York\n",
       "15                                    Spadina-Fort York\n",
       "16                                    Spadina-Fort York\n",
       "17                                     Toronto-Danforth\n",
       "18                                Scarborough-Guildwood\n",
       "19                                   Scarborough Centre\n",
       "20                                       Toronto Centre\n",
       "21                                       Toronto Centre\n",
       "22                                            Davenport\n",
       "23                                             Multiple\n",
       "24    Etobicoke North/ Parkdale-High Park/ York Sout...\n",
       "25                                   Scarborough Centre\n",
       "26                                    Spadina-Fort York\n",
       "27                                           Willowdale\n",
       "28                                   Scarborough Centre\n",
       "29                                       Toronto Centre\n",
       "30                                       Toronto Centre\n",
       "31                                   Parkdale-High Park\n",
       "32                                     Toronto-Danforth\n",
       "33                                   Parkdale-High Park\n",
       "34                                   Toronto-St. Paul's\n",
       "35                           Humber River - Black Creek\n",
       "36                                    Spadina-Fort York\n",
       "37                                Scarborough Southwest\n",
       "38                                       Toronto Centre\n",
       "39                                           Willowdale\n",
       "40                                             Multiple\n",
       "41                                             Multiple\n",
       "42                                       Toronto Centre\n",
       "43    Spadina-Fort York, Toronto-St. Paul's, Toronto...\n",
       "44                                           Willowdale\n",
       "45                     Toronto Centre/ Toronto-Danforth\n",
       "46                                            Davenport\n",
       "47                           Humber River - Black Creek\n",
       "48                                    Eglinton-Lawrence\n",
       "Name: Ward, dtype: object"
      ]
     },
     "execution_count": 62,
     "metadata": {},
     "output_type": "execute_result"
    }
   ],
   "source": [
    "Ward_Name"
   ]
  },
  {
   "cell_type": "code",
   "execution_count": 59,
   "metadata": {},
   "outputs": [
    {
     "data": {
      "text/plain": [
       "[50000, 600000, 260000, 100000, 50000, 400000, 50000]"
      ]
     },
     "execution_count": 59,
     "metadata": {},
     "output_type": "execute_result"
    }
   ],
   "source": [
    "filtered_amount"
   ]
  },
  {
   "cell_type": "code",
   "execution_count": 64,
   "metadata": {},
   "outputs": [
    {
     "data": {
      "application/vnd.plotly.v1+json": {
       "config": {
        "plotlyServerURL": "https://plot.ly"
       },
       "data": [
        {
         "type": "bar",
         "x": [
          "Toronto Centre",
          "Etobicoke North",
          "Spadina-Fort York",
          "Toronto Centre",
          "Davenport",
          "Toronto Centre",
          "Toronto Centre",
          "Eglinton-Lawrence",
          "Etobicoke Centre",
          "Scarborough North",
          "Multiple",
          "Beaches- East York",
          "Eglinton-Lawrence",
          "Scarborough North",
          "Spadina-Fort York",
          "Spadina-Fort York",
          "Spadina-Fort York",
          "Toronto-Danforth",
          "Scarborough-Guildwood",
          "Scarborough Centre",
          "Toronto Centre",
          "Toronto Centre",
          "Davenport",
          "Multiple",
          "Etobicoke North/ Parkdale-High Park/ York South-Weston/ University-Rosedale",
          "Scarborough Centre",
          "Spadina-Fort York",
          "Willowdale",
          "Scarborough Centre",
          "Toronto Centre",
          "Toronto Centre",
          "Parkdale-High Park",
          "Toronto-Danforth",
          "Parkdale-High Park",
          "Toronto-St. Paul's",
          "Humber River - Black Creek",
          "Spadina-Fort York",
          "Scarborough Southwest",
          "Toronto Centre",
          "Willowdale",
          "Multiple",
          "Multiple",
          "Toronto Centre",
          "Spadina-Fort York, Toronto-St. Paul's, Toronto Centre, Etobicoke-Lakeshore, University-Rosedale",
          "Willowdale",
          "Toronto Centre/ Toronto-Danforth",
          "Davenport",
          "Humber River - Black Creek",
          "Eglinton-Lawrence"
         ],
         "y": [
          50000,
          600000,
          260000,
          100000,
          50000,
          400000,
          50000
         ]
        }
       ],
       "layout": {
        "template": {
         "data": {
          "bar": [
           {
            "error_x": {
             "color": "#2a3f5f"
            },
            "error_y": {
             "color": "#2a3f5f"
            },
            "marker": {
             "line": {
              "color": "#E5ECF6",
              "width": 0.5
             },
             "pattern": {
              "fillmode": "overlay",
              "size": 10,
              "solidity": 0.2
             }
            },
            "type": "bar"
           }
          ],
          "barpolar": [
           {
            "marker": {
             "line": {
              "color": "#E5ECF6",
              "width": 0.5
             },
             "pattern": {
              "fillmode": "overlay",
              "size": 10,
              "solidity": 0.2
             }
            },
            "type": "barpolar"
           }
          ],
          "carpet": [
           {
            "aaxis": {
             "endlinecolor": "#2a3f5f",
             "gridcolor": "white",
             "linecolor": "white",
             "minorgridcolor": "white",
             "startlinecolor": "#2a3f5f"
            },
            "baxis": {
             "endlinecolor": "#2a3f5f",
             "gridcolor": "white",
             "linecolor": "white",
             "minorgridcolor": "white",
             "startlinecolor": "#2a3f5f"
            },
            "type": "carpet"
           }
          ],
          "choropleth": [
           {
            "colorbar": {
             "outlinewidth": 0,
             "ticks": ""
            },
            "type": "choropleth"
           }
          ],
          "contour": [
           {
            "colorbar": {
             "outlinewidth": 0,
             "ticks": ""
            },
            "colorscale": [
             [
              0,
              "#0d0887"
             ],
             [
              0.1111111111111111,
              "#46039f"
             ],
             [
              0.2222222222222222,
              "#7201a8"
             ],
             [
              0.3333333333333333,
              "#9c179e"
             ],
             [
              0.4444444444444444,
              "#bd3786"
             ],
             [
              0.5555555555555556,
              "#d8576b"
             ],
             [
              0.6666666666666666,
              "#ed7953"
             ],
             [
              0.7777777777777778,
              "#fb9f3a"
             ],
             [
              0.8888888888888888,
              "#fdca26"
             ],
             [
              1,
              "#f0f921"
             ]
            ],
            "type": "contour"
           }
          ],
          "contourcarpet": [
           {
            "colorbar": {
             "outlinewidth": 0,
             "ticks": ""
            },
            "type": "contourcarpet"
           }
          ],
          "heatmap": [
           {
            "colorbar": {
             "outlinewidth": 0,
             "ticks": ""
            },
            "colorscale": [
             [
              0,
              "#0d0887"
             ],
             [
              0.1111111111111111,
              "#46039f"
             ],
             [
              0.2222222222222222,
              "#7201a8"
             ],
             [
              0.3333333333333333,
              "#9c179e"
             ],
             [
              0.4444444444444444,
              "#bd3786"
             ],
             [
              0.5555555555555556,
              "#d8576b"
             ],
             [
              0.6666666666666666,
              "#ed7953"
             ],
             [
              0.7777777777777778,
              "#fb9f3a"
             ],
             [
              0.8888888888888888,
              "#fdca26"
             ],
             [
              1,
              "#f0f921"
             ]
            ],
            "type": "heatmap"
           }
          ],
          "heatmapgl": [
           {
            "colorbar": {
             "outlinewidth": 0,
             "ticks": ""
            },
            "colorscale": [
             [
              0,
              "#0d0887"
             ],
             [
              0.1111111111111111,
              "#46039f"
             ],
             [
              0.2222222222222222,
              "#7201a8"
             ],
             [
              0.3333333333333333,
              "#9c179e"
             ],
             [
              0.4444444444444444,
              "#bd3786"
             ],
             [
              0.5555555555555556,
              "#d8576b"
             ],
             [
              0.6666666666666666,
              "#ed7953"
             ],
             [
              0.7777777777777778,
              "#fb9f3a"
             ],
             [
              0.8888888888888888,
              "#fdca26"
             ],
             [
              1,
              "#f0f921"
             ]
            ],
            "type": "heatmapgl"
           }
          ],
          "histogram": [
           {
            "marker": {
             "pattern": {
              "fillmode": "overlay",
              "size": 10,
              "solidity": 0.2
             }
            },
            "type": "histogram"
           }
          ],
          "histogram2d": [
           {
            "colorbar": {
             "outlinewidth": 0,
             "ticks": ""
            },
            "colorscale": [
             [
              0,
              "#0d0887"
             ],
             [
              0.1111111111111111,
              "#46039f"
             ],
             [
              0.2222222222222222,
              "#7201a8"
             ],
             [
              0.3333333333333333,
              "#9c179e"
             ],
             [
              0.4444444444444444,
              "#bd3786"
             ],
             [
              0.5555555555555556,
              "#d8576b"
             ],
             [
              0.6666666666666666,
              "#ed7953"
             ],
             [
              0.7777777777777778,
              "#fb9f3a"
             ],
             [
              0.8888888888888888,
              "#fdca26"
             ],
             [
              1,
              "#f0f921"
             ]
            ],
            "type": "histogram2d"
           }
          ],
          "histogram2dcontour": [
           {
            "colorbar": {
             "outlinewidth": 0,
             "ticks": ""
            },
            "colorscale": [
             [
              0,
              "#0d0887"
             ],
             [
              0.1111111111111111,
              "#46039f"
             ],
             [
              0.2222222222222222,
              "#7201a8"
             ],
             [
              0.3333333333333333,
              "#9c179e"
             ],
             [
              0.4444444444444444,
              "#bd3786"
             ],
             [
              0.5555555555555556,
              "#d8576b"
             ],
             [
              0.6666666666666666,
              "#ed7953"
             ],
             [
              0.7777777777777778,
              "#fb9f3a"
             ],
             [
              0.8888888888888888,
              "#fdca26"
             ],
             [
              1,
              "#f0f921"
             ]
            ],
            "type": "histogram2dcontour"
           }
          ],
          "mesh3d": [
           {
            "colorbar": {
             "outlinewidth": 0,
             "ticks": ""
            },
            "type": "mesh3d"
           }
          ],
          "parcoords": [
           {
            "line": {
             "colorbar": {
              "outlinewidth": 0,
              "ticks": ""
             }
            },
            "type": "parcoords"
           }
          ],
          "pie": [
           {
            "automargin": true,
            "type": "pie"
           }
          ],
          "scatter": [
           {
            "fillpattern": {
             "fillmode": "overlay",
             "size": 10,
             "solidity": 0.2
            },
            "type": "scatter"
           }
          ],
          "scatter3d": [
           {
            "line": {
             "colorbar": {
              "outlinewidth": 0,
              "ticks": ""
             }
            },
            "marker": {
             "colorbar": {
              "outlinewidth": 0,
              "ticks": ""
             }
            },
            "type": "scatter3d"
           }
          ],
          "scattercarpet": [
           {
            "marker": {
             "colorbar": {
              "outlinewidth": 0,
              "ticks": ""
             }
            },
            "type": "scattercarpet"
           }
          ],
          "scattergeo": [
           {
            "marker": {
             "colorbar": {
              "outlinewidth": 0,
              "ticks": ""
             }
            },
            "type": "scattergeo"
           }
          ],
          "scattergl": [
           {
            "marker": {
             "colorbar": {
              "outlinewidth": 0,
              "ticks": ""
             }
            },
            "type": "scattergl"
           }
          ],
          "scattermapbox": [
           {
            "marker": {
             "colorbar": {
              "outlinewidth": 0,
              "ticks": ""
             }
            },
            "type": "scattermapbox"
           }
          ],
          "scatterpolar": [
           {
            "marker": {
             "colorbar": {
              "outlinewidth": 0,
              "ticks": ""
             }
            },
            "type": "scatterpolar"
           }
          ],
          "scatterpolargl": [
           {
            "marker": {
             "colorbar": {
              "outlinewidth": 0,
              "ticks": ""
             }
            },
            "type": "scatterpolargl"
           }
          ],
          "scatterternary": [
           {
            "marker": {
             "colorbar": {
              "outlinewidth": 0,
              "ticks": ""
             }
            },
            "type": "scatterternary"
           }
          ],
          "surface": [
           {
            "colorbar": {
             "outlinewidth": 0,
             "ticks": ""
            },
            "colorscale": [
             [
              0,
              "#0d0887"
             ],
             [
              0.1111111111111111,
              "#46039f"
             ],
             [
              0.2222222222222222,
              "#7201a8"
             ],
             [
              0.3333333333333333,
              "#9c179e"
             ],
             [
              0.4444444444444444,
              "#bd3786"
             ],
             [
              0.5555555555555556,
              "#d8576b"
             ],
             [
              0.6666666666666666,
              "#ed7953"
             ],
             [
              0.7777777777777778,
              "#fb9f3a"
             ],
             [
              0.8888888888888888,
              "#fdca26"
             ],
             [
              1,
              "#f0f921"
             ]
            ],
            "type": "surface"
           }
          ],
          "table": [
           {
            "cells": {
             "fill": {
              "color": "#EBF0F8"
             },
             "line": {
              "color": "white"
             }
            },
            "header": {
             "fill": {
              "color": "#C8D4E3"
             },
             "line": {
              "color": "white"
             }
            },
            "type": "table"
           }
          ]
         },
         "layout": {
          "annotationdefaults": {
           "arrowcolor": "#2a3f5f",
           "arrowhead": 0,
           "arrowwidth": 1
          },
          "autotypenumbers": "strict",
          "coloraxis": {
           "colorbar": {
            "outlinewidth": 0,
            "ticks": ""
           }
          },
          "colorscale": {
           "diverging": [
            [
             0,
             "#8e0152"
            ],
            [
             0.1,
             "#c51b7d"
            ],
            [
             0.2,
             "#de77ae"
            ],
            [
             0.3,
             "#f1b6da"
            ],
            [
             0.4,
             "#fde0ef"
            ],
            [
             0.5,
             "#f7f7f7"
            ],
            [
             0.6,
             "#e6f5d0"
            ],
            [
             0.7,
             "#b8e186"
            ],
            [
             0.8,
             "#7fbc41"
            ],
            [
             0.9,
             "#4d9221"
            ],
            [
             1,
             "#276419"
            ]
           ],
           "sequential": [
            [
             0,
             "#0d0887"
            ],
            [
             0.1111111111111111,
             "#46039f"
            ],
            [
             0.2222222222222222,
             "#7201a8"
            ],
            [
             0.3333333333333333,
             "#9c179e"
            ],
            [
             0.4444444444444444,
             "#bd3786"
            ],
            [
             0.5555555555555556,
             "#d8576b"
            ],
            [
             0.6666666666666666,
             "#ed7953"
            ],
            [
             0.7777777777777778,
             "#fb9f3a"
            ],
            [
             0.8888888888888888,
             "#fdca26"
            ],
            [
             1,
             "#f0f921"
            ]
           ],
           "sequentialminus": [
            [
             0,
             "#0d0887"
            ],
            [
             0.1111111111111111,
             "#46039f"
            ],
            [
             0.2222222222222222,
             "#7201a8"
            ],
            [
             0.3333333333333333,
             "#9c179e"
            ],
            [
             0.4444444444444444,
             "#bd3786"
            ],
            [
             0.5555555555555556,
             "#d8576b"
            ],
            [
             0.6666666666666666,
             "#ed7953"
            ],
            [
             0.7777777777777778,
             "#fb9f3a"
            ],
            [
             0.8888888888888888,
             "#fdca26"
            ],
            [
             1,
             "#f0f921"
            ]
           ]
          },
          "colorway": [
           "#636efa",
           "#EF553B",
           "#00cc96",
           "#ab63fa",
           "#FFA15A",
           "#19d3f3",
           "#FF6692",
           "#B6E880",
           "#FF97FF",
           "#FECB52"
          ],
          "font": {
           "color": "#2a3f5f"
          },
          "geo": {
           "bgcolor": "white",
           "lakecolor": "white",
           "landcolor": "#E5ECF6",
           "showlakes": true,
           "showland": true,
           "subunitcolor": "white"
          },
          "hoverlabel": {
           "align": "left"
          },
          "hovermode": "closest",
          "mapbox": {
           "style": "light"
          },
          "paper_bgcolor": "white",
          "plot_bgcolor": "#E5ECF6",
          "polar": {
           "angularaxis": {
            "gridcolor": "white",
            "linecolor": "white",
            "ticks": ""
           },
           "bgcolor": "#E5ECF6",
           "radialaxis": {
            "gridcolor": "white",
            "linecolor": "white",
            "ticks": ""
           }
          },
          "scene": {
           "xaxis": {
            "backgroundcolor": "#E5ECF6",
            "gridcolor": "white",
            "gridwidth": 2,
            "linecolor": "white",
            "showbackground": true,
            "ticks": "",
            "zerolinecolor": "white"
           },
           "yaxis": {
            "backgroundcolor": "#E5ECF6",
            "gridcolor": "white",
            "gridwidth": 2,
            "linecolor": "white",
            "showbackground": true,
            "ticks": "",
            "zerolinecolor": "white"
           },
           "zaxis": {
            "backgroundcolor": "#E5ECF6",
            "gridcolor": "white",
            "gridwidth": 2,
            "linecolor": "white",
            "showbackground": true,
            "ticks": "",
            "zerolinecolor": "white"
           }
          },
          "shapedefaults": {
           "line": {
            "color": "#2a3f5f"
           }
          },
          "ternary": {
           "aaxis": {
            "gridcolor": "white",
            "linecolor": "white",
            "ticks": ""
           },
           "baxis": {
            "gridcolor": "white",
            "linecolor": "white",
            "ticks": ""
           },
           "bgcolor": "#E5ECF6",
           "caxis": {
            "gridcolor": "white",
            "linecolor": "white",
            "ticks": ""
           }
          },
          "title": {
           "x": 0.05
          },
          "xaxis": {
           "automargin": true,
           "gridcolor": "white",
           "linecolor": "white",
           "ticks": "",
           "title": {
            "standoff": 15
           },
           "zerolinecolor": "white",
           "zerolinewidth": 2
          },
          "yaxis": {
           "automargin": true,
           "gridcolor": "white",
           "linecolor": "white",
           "ticks": "",
           "title": {
            "standoff": 15
           },
           "zerolinecolor": "white",
           "zerolinewidth": 2
          }
         }
        },
        "title": {
         "text": "50k>= Grant Allocated by Ward"
        },
        "xaxis": {
         "title": {
          "text": "Ward "
         }
        },
        "yaxis": {
         "title": {
          "text": "Funding Amount(Grant)"
         }
        }
       }
      }
     },
     "metadata": {},
     "output_type": "display_data"
    }
   ],
   "source": [
    "graph = go.Figure()\n",
    "graph.add_trace(go.Bar(x = Ward_Name, y = filtered_amount))\n",
    "\n",
    "graph.update_layout(title = \"50k>= Grant Allocated by Ward\",\n",
    "                    xaxis_title = \"Ward \",\n",
    "                    yaxis_title = \"Funding Amount(Grant)\")\n"
   ]
  },
  {
   "cell_type": "code",
   "execution_count": null,
   "metadata": {},
   "outputs": [],
   "source": []
  }
 ],
 "metadata": {
  "kernelspec": {
   "display_name": "dsi_participant",
   "language": "python",
   "name": "python3"
  },
  "language_info": {
   "codemirror_mode": {
    "name": "ipython",
    "version": 3
   },
   "file_extension": ".py",
   "mimetype": "text/x-python",
   "name": "python",
   "nbconvert_exporter": "python",
   "pygments_lexer": "ipython3",
   "version": "3.9.15"
  }
 },
 "nbformat": 4,
 "nbformat_minor": 2
}
